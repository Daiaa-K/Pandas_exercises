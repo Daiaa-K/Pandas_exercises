{
 "cells": [
  {
   "cell_type": "markdown",
   "metadata": {},
   "source": [
    "# Getting Financial Data - Pandas Datareader"
   ]
  },
  {
   "cell_type": "markdown",
   "metadata": {},
   "source": [
    "### Introduction:\n",
    "\n",
    "This time you will get data from a website.\n",
    "\n",
    "\n",
    "### Step 1. Import the necessary libraries"
   ]
  },
  {
   "cell_type": "code",
   "execution_count": 2,
   "metadata": {
    "ExecuteTime": {
     "end_time": "2024-04-12T07:12:05.833521Z",
     "start_time": "2024-04-12T07:12:04.937461Z"
    }
   },
   "outputs": [],
   "source": [
    "import pandas as pd\n",
    "import numpy as np\n",
    "import datetime as dt\n",
    "import pandas_datareader.data as web"
   ]
  },
  {
   "cell_type": "markdown",
   "metadata": {},
   "source": [
    "### Step 2. Create your time range (start and end variables). The start date should be 01/01/2015 and the end should today (whatever your today is)."
   ]
  },
  {
   "cell_type": "code",
   "execution_count": 3,
   "metadata": {
    "ExecuteTime": {
     "end_time": "2024-04-12T07:12:06.697644Z",
     "start_time": "2024-04-12T07:12:06.694313Z"
    }
   },
   "outputs": [],
   "source": [
    "s = dt.date(2015,1,1)"
   ]
  },
  {
   "cell_type": "code",
   "execution_count": 4,
   "metadata": {
    "ExecuteTime": {
     "end_time": "2024-04-12T07:12:07.361522Z",
     "start_time": "2024-04-12T07:12:07.357717Z"
    }
   },
   "outputs": [],
   "source": [
    "e=dt.date.today()"
   ]
  },
  {
   "cell_type": "code",
   "execution_count": 5,
   "metadata": {
    "ExecuteTime": {
     "end_time": "2024-04-12T07:12:07.957656Z",
     "start_time": "2024-04-12T07:12:07.949180Z"
    }
   },
   "outputs": [
    {
     "data": {
      "text/plain": [
       "datetime.date(2015, 1, 1)"
      ]
     },
     "execution_count": 5,
     "metadata": {},
     "output_type": "execute_result"
    }
   ],
   "source": [
    "s"
   ]
  },
  {
   "cell_type": "code",
   "execution_count": 6,
   "metadata": {
    "ExecuteTime": {
     "end_time": "2024-04-12T07:12:08.510464Z",
     "start_time": "2024-04-12T07:12:08.505437Z"
    }
   },
   "outputs": [
    {
     "data": {
      "text/plain": [
       "datetime.date(2024, 4, 12)"
      ]
     },
     "execution_count": 6,
     "metadata": {},
     "output_type": "execute_result"
    }
   ],
   "source": [
    "e"
   ]
  },
  {
   "cell_type": "markdown",
   "metadata": {},
   "source": [
    "### Step 3. Get an API key for one of the APIs that are supported by Pandas Datareader, preferably for AlphaVantage.\n",
    "\n",
    "If you do not have an API key for any of the supported APIs, it is easiest to get one for [AlphaVantage](https://www.alphavantage.co/support/#api-key). (Note that the API key is shown directly after the signup. You do *not* receive it via e-mail.)\n",
    "\n",
    "(For a full list of the APIs that are supported by Pandas Datareader, [see here](https://pydata.github.io/pandas-datareader/readers/index.html). As the APIs are provided by third parties, this list may change.)"
   ]
  },
  {
   "cell_type": "markdown",
   "metadata": {},
   "source": [
    "### Step 4. Use Pandas Datarader to read the daily time series for the Apple stock (ticker symbol AAPL) between 01/01/2015 and today, assign it to df_apple and print it."
   ]
  },
  {
   "cell_type": "code",
   "execution_count": 17,
   "metadata": {
    "ExecuteTime": {
     "end_time": "2024-04-12T07:16:32.690410Z",
     "start_time": "2024-04-12T07:16:31.165154Z"
    }
   },
   "outputs": [],
   "source": [
    "apple = web.get_data_alphavantage('AAPL',start=s,end=e,api_key=\"M9DLDAKTEIRTGBMV\")"
   ]
  },
  {
   "cell_type": "markdown",
   "metadata": {},
   "source": [
    "### Step 5. Add a new column \"stock\" to the dataframe and add the ticker symbol"
   ]
  },
  {
   "cell_type": "code",
   "execution_count": 18,
   "metadata": {
    "ExecuteTime": {
     "end_time": "2024-04-12T07:16:33.482584Z",
     "start_time": "2024-04-12T07:16:33.478615Z"
    }
   },
   "outputs": [],
   "source": [
    "apple[\"Stock\"] = \"AAPL\""
   ]
  },
  {
   "cell_type": "code",
   "execution_count": 19,
   "metadata": {
    "ExecuteTime": {
     "end_time": "2024-04-12T07:16:34.475472Z",
     "start_time": "2024-04-12T07:16:34.462460Z"
    }
   },
   "outputs": [
    {
     "data": {
      "text/html": [
       "<div>\n",
       "<style scoped>\n",
       "    .dataframe tbody tr th:only-of-type {\n",
       "        vertical-align: middle;\n",
       "    }\n",
       "\n",
       "    .dataframe tbody tr th {\n",
       "        vertical-align: top;\n",
       "    }\n",
       "\n",
       "    .dataframe thead th {\n",
       "        text-align: right;\n",
       "    }\n",
       "</style>\n",
       "<table border=\"1\" class=\"dataframe\">\n",
       "  <thead>\n",
       "    <tr style=\"text-align: right;\">\n",
       "      <th></th>\n",
       "      <th>open</th>\n",
       "      <th>high</th>\n",
       "      <th>low</th>\n",
       "      <th>close</th>\n",
       "      <th>volume</th>\n",
       "      <th>Stock</th>\n",
       "    </tr>\n",
       "  </thead>\n",
       "  <tbody>\n",
       "    <tr>\n",
       "      <th>2015-01-02</th>\n",
       "      <td>111.39</td>\n",
       "      <td>111.44</td>\n",
       "      <td>107.350</td>\n",
       "      <td>109.33</td>\n",
       "      <td>53204626</td>\n",
       "      <td>AAPL</td>\n",
       "    </tr>\n",
       "    <tr>\n",
       "      <th>2015-01-05</th>\n",
       "      <td>108.29</td>\n",
       "      <td>108.65</td>\n",
       "      <td>105.410</td>\n",
       "      <td>106.25</td>\n",
       "      <td>64285491</td>\n",
       "      <td>AAPL</td>\n",
       "    </tr>\n",
       "    <tr>\n",
       "      <th>2015-01-06</th>\n",
       "      <td>106.54</td>\n",
       "      <td>107.43</td>\n",
       "      <td>104.630</td>\n",
       "      <td>106.26</td>\n",
       "      <td>65797116</td>\n",
       "      <td>AAPL</td>\n",
       "    </tr>\n",
       "    <tr>\n",
       "      <th>2015-01-07</th>\n",
       "      <td>107.20</td>\n",
       "      <td>108.20</td>\n",
       "      <td>106.695</td>\n",
       "      <td>107.75</td>\n",
       "      <td>40105934</td>\n",
       "      <td>AAPL</td>\n",
       "    </tr>\n",
       "    <tr>\n",
       "      <th>2015-01-08</th>\n",
       "      <td>109.23</td>\n",
       "      <td>112.15</td>\n",
       "      <td>108.700</td>\n",
       "      <td>111.89</td>\n",
       "      <td>59364547</td>\n",
       "      <td>AAPL</td>\n",
       "    </tr>\n",
       "    <tr>\n",
       "      <th>...</th>\n",
       "      <td>...</td>\n",
       "      <td>...</td>\n",
       "      <td>...</td>\n",
       "      <td>...</td>\n",
       "      <td>...</td>\n",
       "      <td>...</td>\n",
       "    </tr>\n",
       "    <tr>\n",
       "      <th>2024-04-05</th>\n",
       "      <td>169.59</td>\n",
       "      <td>170.39</td>\n",
       "      <td>168.950</td>\n",
       "      <td>169.58</td>\n",
       "      <td>41975776</td>\n",
       "      <td>AAPL</td>\n",
       "    </tr>\n",
       "    <tr>\n",
       "      <th>2024-04-08</th>\n",
       "      <td>169.03</td>\n",
       "      <td>169.20</td>\n",
       "      <td>168.240</td>\n",
       "      <td>168.45</td>\n",
       "      <td>37216858</td>\n",
       "      <td>AAPL</td>\n",
       "    </tr>\n",
       "    <tr>\n",
       "      <th>2024-04-09</th>\n",
       "      <td>168.70</td>\n",
       "      <td>170.08</td>\n",
       "      <td>168.350</td>\n",
       "      <td>169.67</td>\n",
       "      <td>42231444</td>\n",
       "      <td>AAPL</td>\n",
       "    </tr>\n",
       "    <tr>\n",
       "      <th>2024-04-10</th>\n",
       "      <td>168.80</td>\n",
       "      <td>169.09</td>\n",
       "      <td>167.110</td>\n",
       "      <td>167.78</td>\n",
       "      <td>49709336</td>\n",
       "      <td>AAPL</td>\n",
       "    </tr>\n",
       "    <tr>\n",
       "      <th>2024-04-11</th>\n",
       "      <td>168.34</td>\n",
       "      <td>175.46</td>\n",
       "      <td>168.160</td>\n",
       "      <td>175.04</td>\n",
       "      <td>91070275</td>\n",
       "      <td>AAPL</td>\n",
       "    </tr>\n",
       "  </tbody>\n",
       "</table>\n",
       "<p>2334 rows × 6 columns</p>\n",
       "</div>"
      ],
      "text/plain": [
       "              open    high      low   close    volume Stock\n",
       "2015-01-02  111.39  111.44  107.350  109.33  53204626  AAPL\n",
       "2015-01-05  108.29  108.65  105.410  106.25  64285491  AAPL\n",
       "2015-01-06  106.54  107.43  104.630  106.26  65797116  AAPL\n",
       "2015-01-07  107.20  108.20  106.695  107.75  40105934  AAPL\n",
       "2015-01-08  109.23  112.15  108.700  111.89  59364547  AAPL\n",
       "...            ...     ...      ...     ...       ...   ...\n",
       "2024-04-05  169.59  170.39  168.950  169.58  41975776  AAPL\n",
       "2024-04-08  169.03  169.20  168.240  168.45  37216858  AAPL\n",
       "2024-04-09  168.70  170.08  168.350  169.67  42231444  AAPL\n",
       "2024-04-10  168.80  169.09  167.110  167.78  49709336  AAPL\n",
       "2024-04-11  168.34  175.46  168.160  175.04  91070275  AAPL\n",
       "\n",
       "[2334 rows x 6 columns]"
      ]
     },
     "execution_count": 19,
     "metadata": {},
     "output_type": "execute_result"
    }
   ],
   "source": [
    "data"
   ]
  },
  {
   "cell_type": "markdown",
   "metadata": {},
   "source": [
    "### Step 6. Repeat the two previous steps for a few other stocks, always creating a new dataframe: Tesla, IBM and Microsoft. (Ticker symbols TSLA, IBM and MSFT.)"
   ]
  },
  {
   "cell_type": "code",
   "execution_count": 20,
   "metadata": {
    "ExecuteTime": {
     "end_time": "2024-04-12T07:18:13.768197Z",
     "start_time": "2024-04-12T07:18:09.355227Z"
    }
   },
   "outputs": [],
   "source": [
    "tesla = web.get_data_alphavantage('TSLA',start=s,end=e,api_key=\"M9DLDAKTEIRTGBMV\")\n",
    "ibm = web.get_data_alphavantage('IBM',start=s,end=e,api_key=\"M9DLDAKTEIRTGBMV\")\n",
    "ms = web.get_data_alphavantage('MSFT',start=s,end=e,api_key=\"M9DLDAKTEIRTGBMV\")"
   ]
  },
  {
   "cell_type": "code",
   "execution_count": 21,
   "metadata": {
    "ExecuteTime": {
     "end_time": "2024-04-12T07:18:54.603202Z",
     "start_time": "2024-04-12T07:18:54.597688Z"
    }
   },
   "outputs": [],
   "source": [
    "tesla[\"Stock\"] = \"TSLA\"\n",
    "ibm[\"Stock\"] = \"IBM\"\n",
    "ms[\"Stock\"] = \"MSFT\""
   ]
  },
  {
   "cell_type": "code",
   "execution_count": 22,
   "metadata": {
    "ExecuteTime": {
     "end_time": "2024-04-12T07:18:59.396269Z",
     "start_time": "2024-04-12T07:18:59.379912Z"
    }
   },
   "outputs": [
    {
     "data": {
      "text/html": [
       "<div>\n",
       "<style scoped>\n",
       "    .dataframe tbody tr th:only-of-type {\n",
       "        vertical-align: middle;\n",
       "    }\n",
       "\n",
       "    .dataframe tbody tr th {\n",
       "        vertical-align: top;\n",
       "    }\n",
       "\n",
       "    .dataframe thead th {\n",
       "        text-align: right;\n",
       "    }\n",
       "</style>\n",
       "<table border=\"1\" class=\"dataframe\">\n",
       "  <thead>\n",
       "    <tr style=\"text-align: right;\">\n",
       "      <th></th>\n",
       "      <th>open</th>\n",
       "      <th>high</th>\n",
       "      <th>low</th>\n",
       "      <th>close</th>\n",
       "      <th>volume</th>\n",
       "      <th>Stock</th>\n",
       "    </tr>\n",
       "  </thead>\n",
       "  <tbody>\n",
       "    <tr>\n",
       "      <th>2015-01-02</th>\n",
       "      <td>222.87</td>\n",
       "      <td>223.2500</td>\n",
       "      <td>213.2600</td>\n",
       "      <td>219.310</td>\n",
       "      <td>4764443</td>\n",
       "      <td>TSLA</td>\n",
       "    </tr>\n",
       "    <tr>\n",
       "      <th>2015-01-05</th>\n",
       "      <td>214.55</td>\n",
       "      <td>216.5000</td>\n",
       "      <td>207.1626</td>\n",
       "      <td>210.090</td>\n",
       "      <td>5368477</td>\n",
       "      <td>TSLA</td>\n",
       "    </tr>\n",
       "    <tr>\n",
       "      <th>2015-01-06</th>\n",
       "      <td>210.06</td>\n",
       "      <td>214.2000</td>\n",
       "      <td>204.2100</td>\n",
       "      <td>211.280</td>\n",
       "      <td>6261936</td>\n",
       "      <td>TSLA</td>\n",
       "    </tr>\n",
       "    <tr>\n",
       "      <th>2015-01-07</th>\n",
       "      <td>213.35</td>\n",
       "      <td>214.7800</td>\n",
       "      <td>209.7800</td>\n",
       "      <td>210.950</td>\n",
       "      <td>2968390</td>\n",
       "      <td>TSLA</td>\n",
       "    </tr>\n",
       "    <tr>\n",
       "      <th>2015-01-08</th>\n",
       "      <td>212.81</td>\n",
       "      <td>213.7999</td>\n",
       "      <td>210.0100</td>\n",
       "      <td>210.615</td>\n",
       "      <td>3442509</td>\n",
       "      <td>TSLA</td>\n",
       "    </tr>\n",
       "    <tr>\n",
       "      <th>...</th>\n",
       "      <td>...</td>\n",
       "      <td>...</td>\n",
       "      <td>...</td>\n",
       "      <td>...</td>\n",
       "      <td>...</td>\n",
       "      <td>...</td>\n",
       "    </tr>\n",
       "    <tr>\n",
       "      <th>2024-04-05</th>\n",
       "      <td>169.08</td>\n",
       "      <td>170.8600</td>\n",
       "      <td>160.5100</td>\n",
       "      <td>164.900</td>\n",
       "      <td>136439809</td>\n",
       "      <td>TSLA</td>\n",
       "    </tr>\n",
       "    <tr>\n",
       "      <th>2024-04-08</th>\n",
       "      <td>169.34</td>\n",
       "      <td>174.5000</td>\n",
       "      <td>167.7900</td>\n",
       "      <td>172.980</td>\n",
       "      <td>104039371</td>\n",
       "      <td>TSLA</td>\n",
       "    </tr>\n",
       "    <tr>\n",
       "      <th>2024-04-09</th>\n",
       "      <td>172.91</td>\n",
       "      <td>179.2200</td>\n",
       "      <td>171.9200</td>\n",
       "      <td>176.880</td>\n",
       "      <td>102327658</td>\n",
       "      <td>TSLA</td>\n",
       "    </tr>\n",
       "    <tr>\n",
       "      <th>2024-04-10</th>\n",
       "      <td>173.04</td>\n",
       "      <td>174.9300</td>\n",
       "      <td>170.0100</td>\n",
       "      <td>171.760</td>\n",
       "      <td>84532407</td>\n",
       "      <td>TSLA</td>\n",
       "    </tr>\n",
       "    <tr>\n",
       "      <th>2024-04-11</th>\n",
       "      <td>172.55</td>\n",
       "      <td>175.8800</td>\n",
       "      <td>168.5100</td>\n",
       "      <td>174.600</td>\n",
       "      <td>94515987</td>\n",
       "      <td>TSLA</td>\n",
       "    </tr>\n",
       "  </tbody>\n",
       "</table>\n",
       "<p>2334 rows × 6 columns</p>\n",
       "</div>"
      ],
      "text/plain": [
       "              open      high       low    close     volume Stock\n",
       "2015-01-02  222.87  223.2500  213.2600  219.310    4764443  TSLA\n",
       "2015-01-05  214.55  216.5000  207.1626  210.090    5368477  TSLA\n",
       "2015-01-06  210.06  214.2000  204.2100  211.280    6261936  TSLA\n",
       "2015-01-07  213.35  214.7800  209.7800  210.950    2968390  TSLA\n",
       "2015-01-08  212.81  213.7999  210.0100  210.615    3442509  TSLA\n",
       "...            ...       ...       ...      ...        ...   ...\n",
       "2024-04-05  169.08  170.8600  160.5100  164.900  136439809  TSLA\n",
       "2024-04-08  169.34  174.5000  167.7900  172.980  104039371  TSLA\n",
       "2024-04-09  172.91  179.2200  171.9200  176.880  102327658  TSLA\n",
       "2024-04-10  173.04  174.9300  170.0100  171.760   84532407  TSLA\n",
       "2024-04-11  172.55  175.8800  168.5100  174.600   94515987  TSLA\n",
       "\n",
       "[2334 rows x 6 columns]"
      ]
     },
     "execution_count": 22,
     "metadata": {},
     "output_type": "execute_result"
    }
   ],
   "source": [
    "tesla"
   ]
  },
  {
   "cell_type": "code",
   "execution_count": 23,
   "metadata": {
    "ExecuteTime": {
     "end_time": "2024-04-12T07:19:04.482804Z",
     "start_time": "2024-04-12T07:19:04.466714Z"
    }
   },
   "outputs": [
    {
     "data": {
      "text/html": [
       "<div>\n",
       "<style scoped>\n",
       "    .dataframe tbody tr th:only-of-type {\n",
       "        vertical-align: middle;\n",
       "    }\n",
       "\n",
       "    .dataframe tbody tr th {\n",
       "        vertical-align: top;\n",
       "    }\n",
       "\n",
       "    .dataframe thead th {\n",
       "        text-align: right;\n",
       "    }\n",
       "</style>\n",
       "<table border=\"1\" class=\"dataframe\">\n",
       "  <thead>\n",
       "    <tr style=\"text-align: right;\">\n",
       "      <th></th>\n",
       "      <th>open</th>\n",
       "      <th>high</th>\n",
       "      <th>low</th>\n",
       "      <th>close</th>\n",
       "      <th>volume</th>\n",
       "      <th>Stock</th>\n",
       "    </tr>\n",
       "  </thead>\n",
       "  <tbody>\n",
       "    <tr>\n",
       "      <th>2015-01-02</th>\n",
       "      <td>161.31</td>\n",
       "      <td>163.310</td>\n",
       "      <td>161.0000</td>\n",
       "      <td>162.06</td>\n",
       "      <td>5525341</td>\n",
       "      <td>IBM</td>\n",
       "    </tr>\n",
       "    <tr>\n",
       "      <th>2015-01-05</th>\n",
       "      <td>161.27</td>\n",
       "      <td>161.270</td>\n",
       "      <td>159.1900</td>\n",
       "      <td>159.51</td>\n",
       "      <td>4880389</td>\n",
       "      <td>IBM</td>\n",
       "    </tr>\n",
       "    <tr>\n",
       "      <th>2015-01-06</th>\n",
       "      <td>159.67</td>\n",
       "      <td>159.960</td>\n",
       "      <td>155.1700</td>\n",
       "      <td>156.07</td>\n",
       "      <td>6145670</td>\n",
       "      <td>IBM</td>\n",
       "    </tr>\n",
       "    <tr>\n",
       "      <th>2015-01-07</th>\n",
       "      <td>157.20</td>\n",
       "      <td>157.200</td>\n",
       "      <td>154.0300</td>\n",
       "      <td>155.05</td>\n",
       "      <td>4701015</td>\n",
       "      <td>IBM</td>\n",
       "    </tr>\n",
       "    <tr>\n",
       "      <th>2015-01-08</th>\n",
       "      <td>156.24</td>\n",
       "      <td>159.044</td>\n",
       "      <td>155.5500</td>\n",
       "      <td>158.42</td>\n",
       "      <td>4240585</td>\n",
       "      <td>IBM</td>\n",
       "    </tr>\n",
       "    <tr>\n",
       "      <th>...</th>\n",
       "      <td>...</td>\n",
       "      <td>...</td>\n",
       "      <td>...</td>\n",
       "      <td>...</td>\n",
       "      <td>...</td>\n",
       "      <td>...</td>\n",
       "    </tr>\n",
       "    <tr>\n",
       "      <th>2024-04-05</th>\n",
       "      <td>188.59</td>\n",
       "      <td>190.320</td>\n",
       "      <td>188.0200</td>\n",
       "      <td>189.14</td>\n",
       "      <td>2012428</td>\n",
       "      <td>IBM</td>\n",
       "    </tr>\n",
       "    <tr>\n",
       "      <th>2024-04-08</th>\n",
       "      <td>189.24</td>\n",
       "      <td>190.240</td>\n",
       "      <td>188.9118</td>\n",
       "      <td>189.82</td>\n",
       "      <td>2673611</td>\n",
       "      <td>IBM</td>\n",
       "    </tr>\n",
       "    <tr>\n",
       "      <th>2024-04-09</th>\n",
       "      <td>190.54</td>\n",
       "      <td>191.250</td>\n",
       "      <td>186.6600</td>\n",
       "      <td>189.31</td>\n",
       "      <td>2790673</td>\n",
       "      <td>IBM</td>\n",
       "    </tr>\n",
       "    <tr>\n",
       "      <th>2024-04-10</th>\n",
       "      <td>187.42</td>\n",
       "      <td>187.915</td>\n",
       "      <td>185.5200</td>\n",
       "      <td>186.04</td>\n",
       "      <td>3081915</td>\n",
       "      <td>IBM</td>\n",
       "    </tr>\n",
       "    <tr>\n",
       "      <th>2024-04-11</th>\n",
       "      <td>186.04</td>\n",
       "      <td>186.795</td>\n",
       "      <td>184.5800</td>\n",
       "      <td>185.90</td>\n",
       "      <td>2861736</td>\n",
       "      <td>IBM</td>\n",
       "    </tr>\n",
       "  </tbody>\n",
       "</table>\n",
       "<p>2334 rows × 6 columns</p>\n",
       "</div>"
      ],
      "text/plain": [
       "              open     high       low   close   volume Stock\n",
       "2015-01-02  161.31  163.310  161.0000  162.06  5525341   IBM\n",
       "2015-01-05  161.27  161.270  159.1900  159.51  4880389   IBM\n",
       "2015-01-06  159.67  159.960  155.1700  156.07  6145670   IBM\n",
       "2015-01-07  157.20  157.200  154.0300  155.05  4701015   IBM\n",
       "2015-01-08  156.24  159.044  155.5500  158.42  4240585   IBM\n",
       "...            ...      ...       ...     ...      ...   ...\n",
       "2024-04-05  188.59  190.320  188.0200  189.14  2012428   IBM\n",
       "2024-04-08  189.24  190.240  188.9118  189.82  2673611   IBM\n",
       "2024-04-09  190.54  191.250  186.6600  189.31  2790673   IBM\n",
       "2024-04-10  187.42  187.915  185.5200  186.04  3081915   IBM\n",
       "2024-04-11  186.04  186.795  184.5800  185.90  2861736   IBM\n",
       "\n",
       "[2334 rows x 6 columns]"
      ]
     },
     "execution_count": 23,
     "metadata": {},
     "output_type": "execute_result"
    }
   ],
   "source": [
    "ibm"
   ]
  },
  {
   "cell_type": "markdown",
   "metadata": {},
   "source": [
    "### Step 7. Combine the four separate dataFrames into one combined dataFrame df that holds the information for all four stocks"
   ]
  },
  {
   "cell_type": "code",
   "execution_count": 54,
   "metadata": {
    "ExecuteTime": {
     "end_time": "2024-04-12T07:34:56.540287Z",
     "start_time": "2024-04-12T07:34:56.534585Z"
    }
   },
   "outputs": [],
   "source": [
    "data = pd.concat([apple,ms,tesla,ibm])"
   ]
  },
  {
   "cell_type": "code",
   "execution_count": 56,
   "metadata": {
    "ExecuteTime": {
     "end_time": "2024-04-12T07:35:07.791984Z",
     "start_time": "2024-04-12T07:35:07.781947Z"
    }
   },
   "outputs": [],
   "source": [
    "data.index= pd.to_datetime(data.index)"
   ]
  },
  {
   "cell_type": "markdown",
   "metadata": {},
   "source": [
    "### Step 8. Shift the stock column into the index (making it a multi-level index consisting of the ticker symbol and the date)."
   ]
  },
  {
   "cell_type": "code",
   "execution_count": 57,
   "metadata": {
    "ExecuteTime": {
     "end_time": "2024-04-12T07:35:10.017769Z",
     "start_time": "2024-04-12T07:35:10.006584Z"
    }
   },
   "outputs": [],
   "source": [
    "data=data.set_index([data.index,\"Stock\"])"
   ]
  },
  {
   "cell_type": "markdown",
   "metadata": {},
   "source": [
    "### Step 7. Create a dataFrame called vol, with the volume values."
   ]
  },
  {
   "cell_type": "code",
   "execution_count": 58,
   "metadata": {
    "ExecuteTime": {
     "end_time": "2024-04-12T07:35:11.482488Z",
     "start_time": "2024-04-12T07:35:11.478921Z"
    }
   },
   "outputs": [],
   "source": [
    "vol = data[\"volume\"]"
   ]
  },
  {
   "cell_type": "code",
   "execution_count": 59,
   "metadata": {
    "ExecuteTime": {
     "end_time": "2024-04-12T07:35:12.161220Z",
     "start_time": "2024-04-12T07:35:12.150094Z"
    }
   },
   "outputs": [
    {
     "data": {
      "text/plain": [
       "            Stock\n",
       "2015-01-02  AAPL     53204626\n",
       "2015-01-05  AAPL     64285491\n",
       "2015-01-06  AAPL     65797116\n",
       "2015-01-07  AAPL     40105934\n",
       "2015-01-08  AAPL     59364547\n",
       "                       ...   \n",
       "2024-04-05  IBM       2012428\n",
       "2024-04-08  IBM       2673611\n",
       "2024-04-09  IBM       2790673\n",
       "2024-04-10  IBM       3081915\n",
       "2024-04-11  IBM       2861736\n",
       "Name: volume, Length: 9336, dtype: int64"
      ]
     },
     "execution_count": 59,
     "metadata": {},
     "output_type": "execute_result"
    }
   ],
   "source": [
    "vol"
   ]
  },
  {
   "cell_type": "markdown",
   "metadata": {},
   "source": [
    "### Step 8. Aggregate the data of volume to weekly.\n",
    "Hint: Be careful to not sum data from the same week of 2015 and other years."
   ]
  },
  {
   "cell_type": "code",
   "execution_count": 70,
   "metadata": {
    "ExecuteTime": {
     "end_time": "2024-04-12T07:39:06.280753Z",
     "start_time": "2024-04-12T07:39:06.261503Z"
    }
   },
   "outputs": [],
   "source": [
    "vol= vol.unstack().resample(\"W\").sum()"
   ]
  },
  {
   "cell_type": "code",
   "execution_count": 86,
   "metadata": {
    "ExecuteTime": {
     "end_time": "2024-04-12T07:48:06.920709Z",
     "start_time": "2024-04-12T07:48:06.909135Z"
    }
   },
   "outputs": [
    {
     "data": {
      "text/html": [
       "<div>\n",
       "<style scoped>\n",
       "    .dataframe tbody tr th:only-of-type {\n",
       "        vertical-align: middle;\n",
       "    }\n",
       "\n",
       "    .dataframe tbody tr th {\n",
       "        vertical-align: top;\n",
       "    }\n",
       "\n",
       "    .dataframe thead th {\n",
       "        text-align: right;\n",
       "    }\n",
       "</style>\n",
       "<table border=\"1\" class=\"dataframe\">\n",
       "  <thead>\n",
       "    <tr style=\"text-align: right;\">\n",
       "      <th>Stock</th>\n",
       "      <th>AAPL</th>\n",
       "      <th>IBM</th>\n",
       "      <th>MSFT</th>\n",
       "      <th>TSLA</th>\n",
       "    </tr>\n",
       "  </thead>\n",
       "  <tbody>\n",
       "    <tr>\n",
       "      <th>2015-01-04</th>\n",
       "      <td>53204626</td>\n",
       "      <td>5525341</td>\n",
       "      <td>27913852</td>\n",
       "      <td>4764443</td>\n",
       "    </tr>\n",
       "    <tr>\n",
       "      <th>2015-01-11</th>\n",
       "      <td>282868187</td>\n",
       "      <td>24440360</td>\n",
       "      <td>158596624</td>\n",
       "      <td>22622034</td>\n",
       "    </tr>\n",
       "    <tr>\n",
       "      <th>2015-01-18</th>\n",
       "      <td>304226647</td>\n",
       "      <td>23272056</td>\n",
       "      <td>157088136</td>\n",
       "      <td>30799137</td>\n",
       "    </tr>\n",
       "    <tr>\n",
       "      <th>2015-01-25</th>\n",
       "      <td>198737041</td>\n",
       "      <td>31230797</td>\n",
       "      <td>137352632</td>\n",
       "      <td>16215501</td>\n",
       "    </tr>\n",
       "    <tr>\n",
       "      <th>2015-02-01</th>\n",
       "      <td>465842684</td>\n",
       "      <td>32927307</td>\n",
       "      <td>437786778</td>\n",
       "      <td>15720217</td>\n",
       "    </tr>\n",
       "    <tr>\n",
       "      <th>...</th>\n",
       "      <td>...</td>\n",
       "      <td>...</td>\n",
       "      <td>...</td>\n",
       "      <td>...</td>\n",
       "    </tr>\n",
       "    <tr>\n",
       "      <th>2024-03-17</th>\n",
       "      <td>364748130</td>\n",
       "      <td>27466323</td>\n",
       "      <td>133587381</td>\n",
       "      <td>499381990</td>\n",
       "    </tr>\n",
       "    <tr>\n",
       "      <th>2024-03-24</th>\n",
       "      <td>361583938</td>\n",
       "      <td>23968505</td>\n",
       "      <td>96748672</td>\n",
       "      <td>418091163</td>\n",
       "    </tr>\n",
       "    <tr>\n",
       "      <th>2024-03-31</th>\n",
       "      <td>237622732</td>\n",
       "      <td>15383298</td>\n",
       "      <td>73362236</td>\n",
       "      <td>346873723</td>\n",
       "    </tr>\n",
       "    <tr>\n",
       "      <th>2024-04-07</th>\n",
       "      <td>233688457</td>\n",
       "      <td>12808073</td>\n",
       "      <td>85744235</td>\n",
       "      <td>536821185</td>\n",
       "    </tr>\n",
       "    <tr>\n",
       "      <th>2024-04-14</th>\n",
       "      <td>220227913</td>\n",
       "      <td>11407935</td>\n",
       "      <td>60899906</td>\n",
       "      <td>385415423</td>\n",
       "    </tr>\n",
       "  </tbody>\n",
       "</table>\n",
       "<p>485 rows × 4 columns</p>\n",
       "</div>"
      ],
      "text/plain": [
       "Stock            AAPL       IBM       MSFT       TSLA\n",
       "2015-01-04   53204626   5525341   27913852    4764443\n",
       "2015-01-11  282868187  24440360  158596624   22622034\n",
       "2015-01-18  304226647  23272056  157088136   30799137\n",
       "2015-01-25  198737041  31230797  137352632   16215501\n",
       "2015-02-01  465842684  32927307  437786778   15720217\n",
       "...               ...       ...        ...        ...\n",
       "2024-03-17  364748130  27466323  133587381  499381990\n",
       "2024-03-24  361583938  23968505   96748672  418091163\n",
       "2024-03-31  237622732  15383298   73362236  346873723\n",
       "2024-04-07  233688457  12808073   85744235  536821185\n",
       "2024-04-14  220227913  11407935   60899906  385415423\n",
       "\n",
       "[485 rows x 4 columns]"
      ]
     },
     "execution_count": 86,
     "metadata": {},
     "output_type": "execute_result"
    }
   ],
   "source": [
    "vol"
   ]
  },
  {
   "cell_type": "markdown",
   "metadata": {},
   "source": [
    "### Step 9. Find all the volume traded in the year of 2015"
   ]
  },
  {
   "cell_type": "code",
   "execution_count": 85,
   "metadata": {
    "ExecuteTime": {
     "end_time": "2024-04-12T07:47:08.502052Z",
     "start_time": "2024-04-12T07:47:08.485307Z"
    }
   },
   "outputs": [
    {
     "data": {
      "text/plain": [
       "Stock\n",
       "AAPL    12940555229\n",
       "IBM      1092007014\n",
       "MSFT     8958354049\n",
       "TSLA     1075987827\n",
       "Name: 2015, dtype: int64"
      ]
     },
     "execution_count": 85,
     "metadata": {},
     "output_type": "execute_result"
    }
   ],
   "source": [
    "vol.groupby(vol.index.to_period(\"Y\")).sum().iloc[0,:]"
   ]
  }
 ],
 "metadata": {
  "kernelspec": {
   "display_name": "Python 3 (ipykernel)",
   "language": "python",
   "name": "python3"
  },
  "language_info": {
   "codemirror_mode": {
    "name": "ipython",
    "version": 3
   },
   "file_extension": ".py",
   "mimetype": "text/x-python",
   "name": "python",
   "nbconvert_exporter": "python",
   "pygments_lexer": "ipython3",
   "version": "3.11.5"
  },
  "varInspector": {
   "cols": {
    "lenName": 16,
    "lenType": 16,
    "lenVar": 40
   },
   "kernels_config": {
    "python": {
     "delete_cmd_postfix": "",
     "delete_cmd_prefix": "del ",
     "library": "var_list.py",
     "varRefreshCmd": "print(var_dic_list())"
    },
    "r": {
     "delete_cmd_postfix": ") ",
     "delete_cmd_prefix": "rm(",
     "library": "var_list.r",
     "varRefreshCmd": "cat(var_dic_list()) "
    }
   },
   "types_to_exclude": [
    "module",
    "function",
    "builtin_function_or_method",
    "instance",
    "_Feature"
   ],
   "window_display": false
  }
 },
 "nbformat": 4,
 "nbformat_minor": 1
}
